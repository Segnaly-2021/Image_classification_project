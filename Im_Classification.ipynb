{
 "cells": [
  {
   "cell_type": "code",
   "execution_count": 19,
   "id": "2b63f1f9-9b48-4d79-a1ee-5ac377ec9f41",
   "metadata": {},
   "outputs": [],
   "source": [
    "# Imports\n",
    "import os\n",
    "import numpy as np\n",
    "import nest_asyncio\n",
    "from PIL import Image\n",
    "import tensorflow as tf\n",
    "from tensorflow import keras\n",
    "from residual import ResidualBlock \n",
    "import session_info\n",
    "import fastapi"
   ]
  },
  {
   "cell_type": "code",
   "execution_count": 26,
   "id": "8d06539a-4841-44c2-ba98-d3562af05242",
   "metadata": {},
   "outputs": [
    {
     "name": "stderr",
     "output_type": "stream",
     "text": [
      "'nest_asyncio' is not recognized as an internal or external command,\n",
      "operable program or batch file.\n"
     ]
    }
   ],
   "source": []
  },
  {
   "cell_type": "code",
   "execution_count": null,
   "id": "df5a2c70-72f2-4a5f-9634-31c91d6461c9",
   "metadata": {},
   "outputs": [],
   "source": [
    "# Load database\n",
    "(x_train, y_train), (x_test, y_test) = keras.datasets.mnist.load_data()"
   ]
  },
  {
   "cell_type": "code",
   "execution_count": null,
   "id": "d0e50ec5-7e84-40bb-a497-b719cea31ba7",
   "metadata": {},
   "outputs": [],
   "source": [
    "# Create a path for test images \n",
    "image_test_path = './images_test'\n",
    "if not os.path.exists(image_test_path):\n",
    "    os.mkdir(image_test_path)\n",
    "\n",
    "def arraytoimage(x,y):\n",
    "    ''' Converts numpy array to image'''\n",
    "    len_x = x.shape[0]\n",
    "    for i in range(len_x):\n",
    "        image = Image.fromarray(x[i])\n",
    "        name = str(y[i])\n",
    "        image.save(f'{image_test_path }/{name}.png')\n",
    "\n"
   ]
  },
  {
   "cell_type": "code",
   "execution_count": null,
   "id": "2a4b961c-2adb-4760-a7f0-5fd656484df1",
   "metadata": {},
   "outputs": [],
   "source": [
    "arraytoimage(x_test,y_test)"
   ]
  },
  {
   "cell_type": "code",
   "execution_count": null,
   "id": "e0579cf1-8758-4bf6-9c75-79e43a6ca573",
   "metadata": {},
   "outputs": [],
   "source": [
    "# Scale test and training set to range from 0 to 1\n",
    "x_train, x_test = x_train/255.0, x_test/255.0"
   ]
  },
  {
   "cell_type": "code",
   "execution_count": null,
   "id": "e36c2092-4923-4653-afb9-57775d915ea1",
   "metadata": {},
   "outputs": [],
   "source": [
    "# Model definition\n",
    "\n",
    "model = keras.Sequential()\n",
    "model.add(keras.layers.Input(shape=(28,28,1)))\n",
    "\n",
    "# Keep the first stack of layers of ResNet with a little change in the\n",
    "# number of strides, set to 1 instead of 2 (due to the size of images)\n",
    "model.add(keras.layers.Conv2D(64, kernel_size=7, strides=1, name='label_xf'))\n",
    "model.add(keras.layers.BatchNormalization())\n",
    "model.add(keras.layers.Activation('relu'))\n",
    "model.add(keras.layers.MaxPool2D(pool_size=3, strides=1, padding=\"same\"))\n",
    "\n",
    "# Number of filters in the first Con2D layer\n",
    "pre_filter=64\n",
    "\n",
    "# Builds the residual blocks using ResidualBlock class\n",
    "# defined in the residual.py file\n",
    "for filter in [64]*3  + [128]:\n",
    "   strides=1 if filter==pre_filter else 2\n",
    "   model.add(ResidualBlock(filters=filter, strides=strides))\n",
    "   pre_filter=filter\n",
    "\n",
    "# Uses a glabal average layer and then flattens its output\n",
    "model.add(keras.layers.GlobalAvgPool2D())\n",
    "model.add(keras.layers.Flatten())\n",
    "\n",
    "# Add a dense layer and tuner its number of units\n",
    "model.add(keras.layers.Dense(units=28, activation='relu'))\n",
    "\n",
    "# Add the output layer\n",
    "model.add(keras.layers.Dense(10, activation='softmax'))\n",
    "\n",
    "# Adam optimizer and compile the model\n",
    "optimizer = keras.optimizers.Adam(learning_rate=0.01)\n",
    "model.compile(optimizer=optimizer,\n",
    "                loss=keras.losses.SparseCategoricalCrossentropy(),\n",
    "                metrics=['accuracy'])\n"
   ]
  },
  {
   "cell_type": "code",
   "execution_count": null,
   "id": "e650303d-3f11-4967-9a4c-7e6c5e01156b",
   "metadata": {},
   "outputs": [],
   "source": [
    "# Train the model\n",
    "model.fit(x=x_train,y=y_train, batch_size=32, epochs=5, validation_split=0.2, steps_per_epoch=1500)"
   ]
  },
  {
   "cell_type": "code",
   "execution_count": null,
   "id": "79373216-677a-42a2-b02d-16b02e56b1ee",
   "metadata": {},
   "outputs": [],
   "source": [
    "# Evaluate the model\n",
    "model.evaluate(x_test,y_test)"
   ]
  },
  {
   "cell_type": "code",
   "execution_count": null,
   "id": "596dcdb5-0d59-4d98-a3f0-2c792850a4b1",
   "metadata": {},
   "outputs": [],
   "source": [
    "# Save the model\n",
    "model.save('model.keras')"
   ]
  },
  {
   "cell_type": "markdown",
   "id": "8d1d0325-8794-48ba-aafb-4eb0c35d40aa",
   "metadata": {},
   "source": [
    "### FastAPI app"
   ]
  },
  {
   "cell_type": "code",
   "execution_count": null,
   "id": "66c1fa2e-0428-49e7-a591-eafbf70af161",
   "metadata": {},
   "outputs": [],
   "source": [
    "app_path = 'main.py'"
   ]
  },
  {
   "cell_type": "code",
   "execution_count": null,
   "id": "acf07084-b072-4144-9c4e-969b5601c6e8",
   "metadata": {},
   "outputs": [],
   "source": [
    "!pip install numpy "
   ]
  },
  {
   "cell_type": "code",
   "execution_count": 15,
   "id": "69d3a918-46c7-4ef8-991b-1ea3a445041e",
   "metadata": {},
   "outputs": [],
   "source": [
    "#%%writefile {app_path}\n",
    "\n",
    "# Imports\n",
    "import nest_asyncio\n",
    "import io\n",
    "import cv2\n",
    "import uvicorn\n",
    "import cvlib as cv\n",
    "import numpy as np\n",
    "import tensorflow as tf\n",
    "from tensorflow import keras\n",
    "from residual import ResidualBlock \n",
    "from fastapi import FastAPI, UploadFile, File, HTTPException\n",
    "\n",
    "app= FastAPI(title='Handwriten_digit_Identifier')\n",
    "\n",
    "@app.get(\"/\")\n",
    "def homepage():\n",
    "    return \"Welcome to the home page!!! To test the app, go to  http://127.0.0.2:8080/docs\"\n",
    "\n",
    "@app.post(\"/predict/\")\n",
    "async def prediction(file: UploadFile = File(...)):\n",
    "\n",
    "    filename = file.filename\n",
    "    fileExtention = filename.split('.')[-1] in ('jpeg','jpg','png')\n",
    "    if not fileExtention:\n",
    "        raise HTTPException(status_code=415, detail=\"Unsupported file provided.\")\n",
    "\n",
    "    # Read the image as a stream of bytes\n",
    "    image_stream = io.BytesIO(file.file.read())\n",
    "    \n",
    "    # Start the stream from the beginning (position zero)\n",
    "    image_stream.seek(0)\n",
    "    \n",
    "    # Write the stream of bytes into a numpy array\n",
    "    file_bytes = np.asarray(bytearray(image_stream.read()), dtype=np.uint8)\n",
    "    \n",
    "    # Decode the numpy array as an image\n",
    "    image = cv2.imdecode(file_bytes, cv2.IMREAD_GRAYSCALE)\n",
    "\n",
    "    # Scale the image and reshape it\n",
    "    image_0_1 = (image/255).reshape(-1,28,28,1)\n",
    "\n",
    "    # Load the model\n",
    "    model = keras.models.load_model(\"model.keras\")\n",
    "    \n",
    "    # Prediction \n",
    "    y_pred = np.argmax(model.predict(image_0_1))\n",
    "    conf_prob = np.max(model.predict(image_0_1))\n",
    "\n",
    "    message= f\"The handwriten digit you provided is predicted to be {y_pred} with a confidence of:{conf_prob}\"\n",
    "    \n",
    "    return {'message': message}"
   ]
  },
  {
   "cell_type": "code",
   "execution_count": null,
   "id": "f7ad4223-eb27-4a99-8590-90f2a024b5be",
   "metadata": {},
   "outputs": [],
   "source": [
    "# Allows the server to be run in this interactive environment\n",
    "nest_asyncio.apply()\n",
    "\n",
    "# Define a localhost\n",
    "host = \"127.0.0.2\"\n",
    "\n",
    "# Spin up the server!    \n",
    "uvicorn.run(app, host=host, port=8090)"
   ]
  },
  {
   "cell_type": "code",
   "execution_count": null,
   "id": "e8efafc4-4a59-4d11-8747-827e5a47b831",
   "metadata": {},
   "outputs": [],
   "source": []
  }
 ],
 "metadata": {
  "kernelspec": {
   "display_name": "Python 3 (ipykernel)",
   "language": "python",
   "name": "python3"
  },
  "language_info": {
   "codemirror_mode": {
    "name": "ipython",
    "version": 3
   },
   "file_extension": ".py",
   "mimetype": "text/x-python",
   "name": "python",
   "nbconvert_exporter": "python",
   "pygments_lexer": "ipython3",
   "version": "3.12.2"
  }
 },
 "nbformat": 4,
 "nbformat_minor": 5
}
